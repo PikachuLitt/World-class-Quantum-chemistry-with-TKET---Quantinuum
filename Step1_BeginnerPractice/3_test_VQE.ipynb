{
 "cells": [
  {
   "cell_type": "markdown",
   "metadata": {},
   "source": [
    "# Test VQE Algorithm"
   ]
  },
  {
   "cell_type": "code",
   "execution_count": 1,
   "metadata": {},
   "outputs": [],
   "source": [
    "import numpy as np\n",
    "np.random.seed(999999)\n",
    "target_distr = np.random.rand(2)\n",
    "target_distr /= sum(target_distr)"
   ]
  },
  {
   "cell_type": "code",
   "execution_count": 2,
   "metadata": {},
   "outputs": [
    {
     "data": {
      "text/plain": [
       "array([0.51357006, 0.48642994])"
      ]
     },
     "execution_count": 2,
     "metadata": {},
     "output_type": "execute_result"
    }
   ],
   "source": [
    "target_distr"
   ]
  },
  {
   "cell_type": "code",
   "execution_count": 3,
   "metadata": {},
   "outputs": [],
   "source": []
  },
  {
   "cell_type": "code",
   "execution_count": 5,
   "metadata": {},
   "outputs": [],
   "source": [
    "from qiskit import QuantumCircuit, ClassicalRegister, QuantumRegister\n",
    "\n",
    "def get_var_form(params):\n",
    "    qr = QuantumRegister(1, name=\"q\")\n",
    "    cr = ClassicalRegister(1, name=\"c\")\n",
    "    qc = QuantumCircuit(qr, cr)\n",
    "    qc.u3(params[0], params[1], params[2], qr[0])\n",
    "    qc.measure(qr, cr[0])\n",
    "    return qc"
   ]
  },
  {
   "cell_type": "code",
   "execution_count": 7,
   "metadata": {},
   "outputs": [],
   "source": [
    "# objective func\n",
    "from qiskit import Aer, transpile, assemble\n",
    "backend = Aer.get_backend(\"qasm_simulator\")\n",
    "NUM_SHOTS = 10000\n",
    "\n",
    "def get_probability_distribution(counts):\n",
    "    output_distr = [v / NUM_SHOTS for v in counts.values()]\n",
    "    if len(output_distr) == 1:\n",
    "        output_distr.append(1 - output_distr[0])\n",
    "    return output_distr\n",
    "\n",
    "def objective_function(params):\n",
    "    # Obtain a quantum circuit instance from the parameters\n",
    "    qc = get_var_form(params)\n",
    "    # Execute the quantum circuit to obtain the probability distribution associated with the current parameters\n",
    "    t_qc = transpile(qc, backend)\n",
    "    qobj = assemble(t_qc, shots=NUM_SHOTS)\n",
    "    result = backend.run(qobj).result()\n",
    "    # Obtain the counts for each measured state, and convert those counts into a probability vector\n",
    "    output_distr = get_probability_distribution(result.get_counts(qc))\n",
    "    # Calculate the cost as the distance between the output distribution and the target distribution\n",
    "    cost = sum([np.abs(output_distr[i] - target_distr[i]) for i in range(2)])\n",
    "    return cost"
   ]
  },
  {
   "cell_type": "code",
   "execution_count": 13,
   "metadata": {},
   "outputs": [
    {
     "ename": "TypeError",
     "evalue": "minimize() got an unexpected keyword argument 'num_vars'",
     "output_type": "error",
     "traceback": [
      "\u001b[0;31m---------------------------------------------------------------------------\u001b[0m",
      "\u001b[0;31mTypeError\u001b[0m                                 Traceback (most recent call last)",
      "Input \u001b[0;32mIn [13]\u001b[0m, in \u001b[0;36m<cell line: 11>\u001b[0;34m()\u001b[0m\n\u001b[1;32m      8\u001b[0m params \u001b[38;5;241m=\u001b[39m np\u001b[38;5;241m.\u001b[39mrandom\u001b[38;5;241m.\u001b[39mrand(\u001b[38;5;241m3\u001b[39m)\n\u001b[1;32m      9\u001b[0m \u001b[38;5;66;03m# ret = optimizer.optimize(num_vars=3, objective_function=objective_function, initial_point=params)\u001b[39;00m\n\u001b[0;32m---> 11\u001b[0m ret \u001b[38;5;241m=\u001b[39m \u001b[43moptimizer\u001b[49m\u001b[38;5;241;43m.\u001b[39;49m\u001b[43mminimize\u001b[49m\u001b[43m(\u001b[49m\u001b[43mnum_vars\u001b[49m\u001b[38;5;241;43m=\u001b[39;49m\u001b[38;5;241;43m3\u001b[39;49m\u001b[43m,\u001b[49m\u001b[43m \u001b[49m\u001b[43mobjective_function\u001b[49m\u001b[38;5;241;43m=\u001b[39;49m\u001b[43mobjective_function\u001b[49m\u001b[43m,\u001b[49m\u001b[43m \u001b[49m\u001b[43minitial_point\u001b[49m\u001b[38;5;241;43m=\u001b[39;49m\u001b[43mparams\u001b[49m\u001b[43m)\u001b[49m\n\u001b[1;32m     13\u001b[0m \u001b[38;5;66;03m# obtain the output distribution using the final parameters\u001b[39;00m\n\u001b[1;32m     14\u001b[0m qc \u001b[38;5;241m=\u001b[39m get_var_form(ret[\u001b[38;5;241m0\u001b[39m])\n",
      "\u001b[0;31mTypeError\u001b[0m: minimize() got an unexpected keyword argument 'num_vars'"
     ]
    }
   ],
   "source": [
    "# This version is old, replace it.\n",
    "# create optimizer\n",
    "import warnings\n",
    "warnings.simplefilter('ignore', DeprecationWarning)\n",
    "# from qiskit.aqua.components.optimizers import COBYLA\n",
    "from qiskit.algorithms.optimizers import COBYLA\n",
    "\n",
    "optimizer = COBYLA(maxiter=500, tol=0.0001)\n",
    "params = np.random.rand(3)\n",
    "\n",
    "# ret = optimizer.optimize(num_vars=3, objective_function=objective_function, initial_point=params)\n",
    "\n",
    "# ret = optimizer.minimize(num_vars=3, objective_function=objective_function, initial_point=params)\n",
    "\n",
    "# obtain the output distribution using the final parameters\n",
    "qc = get_var_form(ret[0])\n",
    "t_qc = transpile(qc, backend)\n",
    "qobj = assemble(t_qc, shots=NUM_SHOTS)\n",
    "counts = backend.run(qobj).result().get_counts(qc)\n",
    "output_distr = get_probability_distribution(counts)\n",
    "\n",
    "print(\"Target Distribution:\", target_distr)\n",
    "print(\"Obtained Distribution:\", output_distr)\n",
    "print(\"Output Error (Manhattan Distance):\", ret[1])\n",
    "print(\"Parameters Found:\", ret[0])\n"
   ]
  },
  {
   "cell_type": "code",
   "execution_count": 15,
   "metadata": {},
   "outputs": [
    {
     "ename": "TypeError",
     "evalue": "'<=' not supported between instances of 'NoneType' and 'int'",
     "output_type": "error",
     "traceback": [
      "\u001b[0;31m---------------------------------------------------------------------------\u001b[0m",
      "\u001b[0;31mTypeError\u001b[0m                                 Traceback (most recent call last)",
      "Input \u001b[0;32mIn [15]\u001b[0m, in \u001b[0;36m<cell line: 9>\u001b[0;34m()\u001b[0m\n\u001b[1;32m      6\u001b[0m params \u001b[38;5;241m=\u001b[39m np\u001b[38;5;241m.\u001b[39mrandom\u001b[38;5;241m.\u001b[39mrand(\u001b[38;5;241m3\u001b[39m)\n\u001b[1;32m      7\u001b[0m qc \u001b[38;5;241m=\u001b[39m get_var_form(params)\n\u001b[0;32m----> 9\u001b[0m vqe \u001b[38;5;241m=\u001b[39m \u001b[43mVQE\u001b[49m\u001b[43m(\u001b[49m\u001b[43moptimizer\u001b[49m\u001b[38;5;241;43m=\u001b[39;49m\u001b[43mCOBYLA\u001b[49m\u001b[43m(\u001b[49m\u001b[43m)\u001b[49m\u001b[43m,\u001b[49m\u001b[43m \u001b[49m\u001b[43mquantum_instance\u001b[49m\u001b[38;5;241;43m=\u001b[39;49m\u001b[43mqc\u001b[49m\u001b[43m)\u001b[49m\n\u001b[1;32m     10\u001b[0m \u001b[38;5;66;03m# ret = optimizer.optimize(num_vars=3, objective_function=objective_function, initial_point=params)\u001b[39;00m\n\u001b[1;32m     11\u001b[0m \n\u001b[1;32m     12\u001b[0m \u001b[38;5;66;03m# ret = optimizer.minimize(num_vars=3, objective_function=objective_function, initial_point=params)\u001b[39;00m\n\u001b[1;32m     13\u001b[0m \n\u001b[1;32m     14\u001b[0m \u001b[38;5;66;03m# obtain the output distribution using the final parameters\u001b[39;00m\n\u001b[1;32m     16\u001b[0m t_qc \u001b[38;5;241m=\u001b[39m transpile(qc, backend)\n",
      "File \u001b[0;32m~/anaconda3/envs/quantum/lib/python3.9/site-packages/qiskit/algorithms/minimum_eigen_solvers/vqe.py:195\u001b[0m, in \u001b[0;36mVQE.__init__\u001b[0;34m(self, ansatz, optimizer, initial_point, gradient, expectation, include_custom, max_evals_grouped, callback, quantum_instance)\u001b[0m\n\u001b[1;32m    192\u001b[0m \u001b[38;5;28mself\u001b[39m\u001b[38;5;241m.\u001b[39m_quantum_instance \u001b[38;5;241m=\u001b[39m \u001b[38;5;28;01mNone\u001b[39;00m\n\u001b[1;32m    194\u001b[0m \u001b[38;5;28;01mif\u001b[39;00m quantum_instance \u001b[38;5;129;01mis\u001b[39;00m \u001b[38;5;129;01mnot\u001b[39;00m \u001b[38;5;28;01mNone\u001b[39;00m:\n\u001b[0;32m--> 195\u001b[0m     \u001b[38;5;28mself\u001b[39m\u001b[38;5;241m.\u001b[39mquantum_instance \u001b[38;5;241m=\u001b[39m quantum_instance\n\u001b[1;32m    197\u001b[0m \u001b[38;5;28mself\u001b[39m\u001b[38;5;241m.\u001b[39m_eval_time \u001b[38;5;241m=\u001b[39m \u001b[38;5;28;01mNone\u001b[39;00m\n\u001b[1;32m    198\u001b[0m \u001b[38;5;28mself\u001b[39m\u001b[38;5;241m.\u001b[39m_eval_count \u001b[38;5;241m=\u001b[39m \u001b[38;5;241m0\u001b[39m\n",
      "File \u001b[0;32m~/anaconda3/envs/quantum/lib/python3.9/site-packages/qiskit/algorithms/minimum_eigen_solvers/vqe.py:245\u001b[0m, in \u001b[0;36mVQE.quantum_instance\u001b[0;34m(self, quantum_instance)\u001b[0m\n\u001b[1;32m    243\u001b[0m \u001b[38;5;124;03m\"\"\"Sets quantum_instance\"\"\"\u001b[39;00m\n\u001b[1;32m    244\u001b[0m \u001b[38;5;28;01mif\u001b[39;00m \u001b[38;5;129;01mnot\u001b[39;00m \u001b[38;5;28misinstance\u001b[39m(quantum_instance, QuantumInstance):\n\u001b[0;32m--> 245\u001b[0m     quantum_instance \u001b[38;5;241m=\u001b[39m \u001b[43mQuantumInstance\u001b[49m\u001b[43m(\u001b[49m\u001b[43mquantum_instance\u001b[49m\u001b[43m)\u001b[49m\n\u001b[1;32m    247\u001b[0m \u001b[38;5;28mself\u001b[39m\u001b[38;5;241m.\u001b[39m_quantum_instance \u001b[38;5;241m=\u001b[39m quantum_instance\n\u001b[1;32m    248\u001b[0m \u001b[38;5;28mself\u001b[39m\u001b[38;5;241m.\u001b[39m_circuit_sampler \u001b[38;5;241m=\u001b[39m CircuitSampler(\n\u001b[1;32m    249\u001b[0m     quantum_instance, param_qobj\u001b[38;5;241m=\u001b[39mis_aer_provider(quantum_instance\u001b[38;5;241m.\u001b[39mbackend)\n\u001b[1;32m    250\u001b[0m )\n",
      "File \u001b[0;32m~/anaconda3/envs/quantum/lib/python3.9/site-packages/qiskit/utils/quantum_instance.py:284\u001b[0m, in \u001b[0;36mQuantumInstance.__init__\u001b[0;34m(self, backend, shots, seed_simulator, max_credits, basis_gates, coupling_map, initial_layout, pass_manager, bound_pass_manager, seed_transpiler, optimization_level, backend_options, noise_model, timeout, wait, skip_qobj_validation, measurement_error_mitigation_cls, cals_matrix_refresh_period, measurement_error_mitigation_shots, job_callback, mit_pattern, max_job_retries)\u001b[0m\n\u001b[1;32m    281\u001b[0m \u001b[38;5;28mself\u001b[39m\u001b[38;5;241m.\u001b[39m_run_config \u001b[38;5;241m=\u001b[39m run_config\n\u001b[1;32m    283\u001b[0m \u001b[38;5;66;03m# setup backend config\u001b[39;00m\n\u001b[0;32m--> 284\u001b[0m \u001b[38;5;28;01mif\u001b[39;00m \u001b[38;5;28;43mself\u001b[39;49m\u001b[38;5;241;43m.\u001b[39;49m\u001b[43m_backend_interface_version\u001b[49m\u001b[43m \u001b[49m\u001b[38;5;241;43m<\u001b[39;49m\u001b[38;5;241;43m=\u001b[39;49m\u001b[43m \u001b[49m\u001b[38;5;241;43m1\u001b[39;49m:\n\u001b[1;32m    285\u001b[0m     basis_gates \u001b[38;5;241m=\u001b[39m basis_gates \u001b[38;5;129;01mor\u001b[39;00m backend\u001b[38;5;241m.\u001b[39mconfiguration()\u001b[38;5;241m.\u001b[39mbasis_gates\n\u001b[1;32m    286\u001b[0m     coupling_map \u001b[38;5;241m=\u001b[39m coupling_map \u001b[38;5;129;01mor\u001b[39;00m \u001b[38;5;28mgetattr\u001b[39m(backend\u001b[38;5;241m.\u001b[39mconfiguration(), \u001b[38;5;124m\"\u001b[39m\u001b[38;5;124mcoupling_map\u001b[39m\u001b[38;5;124m\"\u001b[39m, \u001b[38;5;28;01mNone\u001b[39;00m)\n",
      "\u001b[0;31mTypeError\u001b[0m: '<=' not supported between instances of 'NoneType' and 'int'"
     ]
    }
   ],
   "source": [
    "# using new version\n",
    "from qiskit.algorithms.optimizers import COBYLA\n",
    "from qiskit.algorithms import VQE\n",
    "\n",
    "optimizer = COBYLA(maxiter=500, tol=0.0001)\n",
    "params = np.random.rand(3)\n",
    "qc = get_var_form(params)\n",
    "\n",
    "vqe = VQE(optimizer=COBYLA(), quantum_instance=qc)\n",
    "# ret = optimizer.optimize(num_vars=3, objective_function=objective_function, initial_point=params)\n",
    "\n",
    "# ret = optimizer.minimize(num_vars=3, objective_function=objective_function, initial_point=params)\n",
    "\n",
    "# obtain the output distribution using the final parameters\n",
    "\n",
    "t_qc = transpile(qc, backend)\n",
    "qobj = assemble(t_qc, shots=NUM_SHOTS)\n",
    "counts = backend.run(qobj).result().get_counts(qc)\n",
    "output_distr = get_probability_distribution(counts)\n",
    "\n",
    "print(\"Target Distribution:\", target_distr)\n",
    "print(\"Obtained Distribution:\", output_distr)\n",
    "# print(\"Output Error (Manhattan Distance):\", ret[1])\n",
    "# print(\"Parameters Found:\", ret[0])\n"
   ]
  },
  {
   "cell_type": "code",
   "execution_count": 14,
   "metadata": {},
   "outputs": [
    {
     "data": {
      "text/plain": [
       "{'qiskit-terra': '0.21.1', 'qiskit-aer': '0.10.4', 'qiskit-ignis': '0.6.0', 'qiskit-ibmq-provider': '0.19.2', 'qiskit': '0.37.1', 'qiskit-nature': None, 'qiskit-finance': None, 'qiskit-optimization': None, 'qiskit-machine-learning': None}"
      ]
     },
     "execution_count": 14,
     "metadata": {},
     "output_type": "execute_result"
    }
   ],
   "source": [
    "import qiskit\n",
    "qiskit.__qiskit_version__"
   ]
  },
  {
   "cell_type": "code",
   "execution_count": 1,
   "metadata": {},
   "outputs": [
    {
     "name": "stdout",
     "output_type": "stream",
     "text": [
      "1.5.0\n"
     ]
    }
   ],
   "source": [
    "import pytket\n",
    "print(pytket.__version__)"
   ]
  },
  {
   "cell_type": "markdown",
   "metadata": {},
   "source": [
    "# New Version VQE Code"
   ]
  },
  {
   "cell_type": "code",
   "execution_count": 16,
   "metadata": {},
   "outputs": [],
   "source": [
    "from qiskit import Aer\n",
    "from qiskit.opflow import X, Z, I\n",
    "from qiskit.utils import QuantumInstance, algorithm_globals\n",
    "from qiskit.algorithms import VQE\n",
    "from qiskit.algorithms.optimizers import SLSQP\n",
    "from qiskit.circuit.library import TwoLocal\n",
    "\n",
    "H2_op = (-1.052373245772859 * I ^ I) + \\\n",
    "        (0.39793742484318045 * I ^ Z) + \\\n",
    "        (-0.39793742484318045 * Z ^ I) + \\\n",
    "        (-0.01128010425623538 * Z ^ Z) + \\\n",
    "        (0.18093119978423156 * X ^ X)"
   ]
  },
  {
   "cell_type": "code",
   "execution_count": 17,
   "metadata": {},
   "outputs": [
    {
     "name": "stdout",
     "output_type": "stream",
     "text": [
      "-1.052373245772859 * II\n",
      "+ 0.39793742484318045 * IZ\n",
      "- 0.39793742484318045 * ZI\n",
      "- 0.01128010425623538 * ZZ\n",
      "+ 0.18093119978423156 * XX\n"
     ]
    }
   ],
   "source": [
    "print(H2_op)"
   ]
  },
  {
   "cell_type": "code",
   "execution_count": 18,
   "metadata": {},
   "outputs": [
    {
     "name": "stdout",
     "output_type": "stream",
     "text": [
      "{   'aux_operator_eigenvalues': None,\n",
      "    'cost_function_evals': 65,\n",
      "    'eigenstate': array([ 9.55146158e-05+0.j, -9.93766272e-01+0.j,  1.11483575e-01+0.j,\n",
      "        1.77493990e-05+0.j]),\n",
      "    'eigenvalue': (-1.8572750175664259+0j),\n",
      "    'optimal_parameters': {   ParameterVectorElement(θ[6]): -4.717618171283927,\n",
      "                              ParameterVectorElement(θ[7]): 0.3602072577510429,\n",
      "                              ParameterVectorElement(θ[4]): -2.5983258978150006,\n",
      "                              ParameterVectorElement(θ[2]): 0.5470754664946292,\n",
      "                              ParameterVectorElement(θ[3]): 6.092947779034692,\n",
      "                              ParameterVectorElement(θ[5]): 1.5683260003556614,\n",
      "                              ParameterVectorElement(θ[1]): 4.426962083985579,\n",
      "                              ParameterVectorElement(θ[0]): 4.296520455019831},\n",
      "    'optimal_point': array([ 4.29652046,  4.42696208,  0.54707547,  6.09294778, -2.5983259 ,\n",
      "        1.568326  , -4.71761817,  0.36020726]),\n",
      "    'optimal_value': -1.8572750175664259,\n",
      "    'optimizer_evals': None,\n",
      "    'optimizer_time': 0.2437746524810791}\n"
     ]
    }
   ],
   "source": [
    "seed = 50\n",
    "algorithm_globals.random_seed = seed\n",
    "qi = QuantumInstance(Aer.get_backend('statevector_simulator'), seed_transpiler=seed, seed_simulator=seed)\n",
    "\n",
    "ansatz = TwoLocal(rotation_blocks='ry', entanglement_blocks='cz')\n",
    "slsqp = SLSQP(maxiter=1000)\n",
    "vqe = VQE(ansatz, optimizer=slsqp, quantum_instance=qi)\n",
    "result = vqe.compute_minimum_eigenvalue(operator=H2_op)\n",
    "print(result)\n",
    "optimizer_evals = result.optimizer_evals"
   ]
  },
  {
   "cell_type": "code",
   "execution_count": 19,
   "metadata": {},
   "outputs": [
    {
     "name": "stdout",
     "output_type": "stream",
     "text": [
      "{   'aux_operator_eigenvalues': None,\n",
      "    'cost_function_evals': 9,\n",
      "    'eigenstate': array([ 9.55146158e-05+0.j, -9.93766272e-01+0.j,  1.11483575e-01+0.j,\n",
      "        1.77493990e-05+0.j]),\n",
      "    'eigenvalue': (-1.8572750175664259+0j),\n",
      "    'optimal_parameters': {   ParameterVectorElement(θ[7]): 0.3602072577510429,\n",
      "                              ParameterVectorElement(θ[1]): 4.426962083985579,\n",
      "                              ParameterVectorElement(θ[4]): -2.5983258978150006,\n",
      "                              ParameterVectorElement(θ[2]): 0.5470754664946292,\n",
      "                              ParameterVectorElement(θ[3]): 6.092947779034692,\n",
      "                              ParameterVectorElement(θ[0]): 4.296520455019831,\n",
      "                              ParameterVectorElement(θ[6]): -4.717618171283927,\n",
      "                              ParameterVectorElement(θ[5]): 1.5683260003556614},\n",
      "    'optimal_point': array([ 4.29652046,  4.42696208,  0.54707547,  6.09294778, -2.5983259 ,\n",
      "        1.568326  , -4.71761817,  0.36020726]),\n",
      "    'optimal_value': -1.8572750175664259,\n",
      "    'optimizer_evals': None,\n",
      "    'optimizer_time': 0.03428006172180176}\n",
      "\n",
      "optimizer_evals is None with initial point versus None without it.\n"
     ]
    }
   ],
   "source": [
    "initial_pt = result.optimal_point\n",
    "\n",
    "algorithm_globals.random_seed = seed\n",
    "qi = QuantumInstance(Aer.get_backend('statevector_simulator'), seed_transpiler=seed, seed_simulator=seed)\n",
    "\n",
    "ansatz = TwoLocal(rotation_blocks='ry', entanglement_blocks='cz')\n",
    "slsqp = SLSQP(maxiter=1000)\n",
    "vqe = VQE(ansatz, optimizer=slsqp, initial_point=initial_pt, quantum_instance=qi)\n",
    "result1 = vqe.compute_minimum_eigenvalue(operator=H2_op)\n",
    "print(result1)\n",
    "optimizer_evals1 = result1.optimizer_evals\n",
    "print()\n",
    "print(f'optimizer_evals is {optimizer_evals1} with initial point versus {optimizer_evals} without it.')"
   ]
  },
  {
   "cell_type": "code",
   "execution_count": 22,
   "metadata": {},
   "outputs": [
    {
     "data": {
      "text/plain": [
       "50"
      ]
     },
     "execution_count": 22,
     "metadata": {},
     "output_type": "execute_result"
    }
   ],
   "source": [
    "# compute the Expectation value\n",
    "seed"
   ]
  },
  {
   "cell_type": "code",
   "execution_count": 23,
   "metadata": {},
   "outputs": [
    {
     "name": "stdout",
     "output_type": "stream",
     "text": [
      "{   'aux_operator_eigenvalues': None,\n",
      "    'cost_function_evals': 65,\n",
      "    'eigenstate': {'01': 0.9921567416492215, '10': 0.125},\n",
      "    'eigenvalue': (-1.8572750175571595+0j),\n",
      "    'optimal_parameters': {   ParameterVectorElement(θ[0]): 4.2965205340503685,\n",
      "                              ParameterVectorElement(θ[1]): 4.426962242132452,\n",
      "                              ParameterVectorElement(θ[5]): 1.5683259454122547,\n",
      "                              ParameterVectorElement(θ[4]): -2.5983258639687397,\n",
      "                              ParameterVectorElement(θ[3]): 6.092947857528147,\n",
      "                              ParameterVectorElement(θ[7]): 0.36020735708081203,\n",
      "                              ParameterVectorElement(θ[2]): 0.5470754193210003,\n",
      "                              ParameterVectorElement(θ[6]): -4.717618177195121},\n",
      "    'optimal_point': array([ 4.29652053,  4.42696224,  0.54707542,  6.09294786, -2.59832586,\n",
      "        1.56832595, -4.71761818,  0.36020736]),\n",
      "    'optimal_value': -1.8572750175571595,\n",
      "    'optimizer_evals': None,\n",
      "    'optimizer_time': 0.16498160362243652}\n"
     ]
    }
   ],
   "source": [
    "from qiskit import Aer\n",
    "\n",
    "algorithm_globals.random_seed = seed\n",
    "qi = QuantumInstance(Aer.get_backend('aer_simulator'), seed_transpiler=seed, seed_simulator=seed)\n",
    "\n",
    "ansatz = TwoLocal(rotation_blocks='ry', entanglement_blocks='cz')\n",
    "slsqp = SLSQP(maxiter=1000)\n",
    "vqe = VQE(ansatz, optimizer=slsqp, quantum_instance=qi, include_custom=True)\n",
    "result = vqe.compute_minimum_eigenvalue(operator=H2_op)\n",
    "optimal_value1 = result.optimal_value\n",
    "print(result)"
   ]
  },
  {
   "cell_type": "code",
   "execution_count": 24,
   "metadata": {},
   "outputs": [
    {
     "name": "stdout",
     "output_type": "stream",
     "text": [
      "The optimal value can be seen to be wrong too, i.e. -1.099 versus the correct -1.857.\n",
      "\n",
      "{   'aux_operator_eigenvalues': None,\n",
      "    'cost_function_evals': 9,\n",
      "    'eigenstate': {   '00': 0.7781187248742958,\n",
      "                      '01': 0.4881406047441659,\n",
      "                      '10': 0.39404750665370286,\n",
      "                      '11': 0.03125},\n",
      "    'eigenvalue': (-1.0987888676631705+0j),\n",
      "    'optimal_parameters': {   ParameterVectorElement(θ[2]): 0.6019852007557844,\n",
      "                              ParameterVectorElement(θ[1]): 4.19301252102391,\n",
      "                              ParameterVectorElement(θ[3]): 5.949536809130025,\n",
      "                              ParameterVectorElement(θ[6]): -5.466043598406607,\n",
      "                              ParameterVectorElement(θ[7]): 0.6984088030463615,\n",
      "                              ParameterVectorElement(θ[4]): -3.3070470445355764,\n",
      "                              ParameterVectorElement(θ[5]): 1.8462931831829383,\n",
      "                              ParameterVectorElement(θ[0]): 3.611860069224077},\n",
      "    'optimal_point': array([ 3.61186007,  4.19301252,  0.6019852 ,  5.94953681, -3.30704704,\n",
      "        1.84629318, -5.4660436 ,  0.6984088 ]),\n",
      "    'optimal_value': -1.0987888676631705,\n",
      "    'optimizer_evals': None,\n",
      "    'optimizer_time': 0.5130553245544434}\n"
     ]
    }
   ],
   "source": [
    "algorithm_globals.random_seed = seed\n",
    "qi = QuantumInstance(Aer.get_backend('aer_simulator'), seed_transpiler=seed, seed_simulator=seed)\n",
    "\n",
    "ansatz = TwoLocal(rotation_blocks='ry', entanglement_blocks='cz')\n",
    "slsqp = SLSQP(maxiter=1000)\n",
    "vqe = VQE(ansatz, optimizer=slsqp, quantum_instance=qi)\n",
    "result = vqe.compute_minimum_eigenvalue(operator=H2_op)\n",
    "optimal_value = result.optimal_value\n",
    "print('The optimal value can be seen to be wrong too, i.e. '\n",
    "      f'{optimal_value:.3f} versus the correct {optimal_value1:.3f}.')\n",
    "print()\n",
    "print(result)"
   ]
  }
 ],
 "metadata": {
  "interpreter": {
   "hash": "161d28b02da67bcd34bb9cde8da8d1fd0a4c616d889b50da1edf66f4de77f6ec"
  },
  "kernelspec": {
   "display_name": "Python 3.9.12 64-bit ('quantum': conda)",
   "language": "python",
   "name": "python3"
  },
  "language_info": {
   "codemirror_mode": {
    "name": "ipython",
    "version": 3
   },
   "file_extension": ".py",
   "mimetype": "text/x-python",
   "name": "python",
   "nbconvert_exporter": "python",
   "pygments_lexer": "ipython3",
   "version": "3.9.12"
  },
  "orig_nbformat": 4
 },
 "nbformat": 4,
 "nbformat_minor": 2
}
