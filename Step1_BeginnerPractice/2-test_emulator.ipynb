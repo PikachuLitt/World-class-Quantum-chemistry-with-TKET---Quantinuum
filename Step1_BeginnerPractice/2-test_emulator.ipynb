{
 "cells": [
  {
   "cell_type": "code",
   "execution_count": 1,
   "metadata": {},
   "outputs": [
    {
     "data": {
      "text/plain": [
       "[<IBMQSimulator('ibmq_qasm_simulator') from IBMQ(hub='ibm-q', group='open', project='main')>,\n",
       " <IBMQBackend('ibmq_lima') from IBMQ(hub='ibm-q', group='open', project='main')>,\n",
       " <IBMQBackend('ibmq_belem') from IBMQ(hub='ibm-q', group='open', project='main')>,\n",
       " <IBMQBackend('ibmq_quito') from IBMQ(hub='ibm-q', group='open', project='main')>,\n",
       " <IBMQSimulator('simulator_statevector') from IBMQ(hub='ibm-q', group='open', project='main')>,\n",
       " <IBMQSimulator('simulator_mps') from IBMQ(hub='ibm-q', group='open', project='main')>,\n",
       " <IBMQSimulator('simulator_extended_stabilizer') from IBMQ(hub='ibm-q', group='open', project='main')>,\n",
       " <IBMQSimulator('simulator_stabilizer') from IBMQ(hub='ibm-q', group='open', project='main')>,\n",
       " <IBMQBackend('ibmq_manila') from IBMQ(hub='ibm-q', group='open', project='main')>,\n",
       " <IBMQBackend('ibm_nairobi') from IBMQ(hub='ibm-q', group='open', project='main')>,\n",
       " <IBMQBackend('ibm_oslo') from IBMQ(hub='ibm-q', group='open', project='main')>]"
      ]
     },
     "execution_count": 1,
     "metadata": {},
     "output_type": "execute_result"
    }
   ],
   "source": [
    "from qiskit import IBMQ\n",
    "# FIXME: first time you need input your IBM account\n",
    "provider = IBMQ.load_account()\n",
    "\n",
    "# 查看可支持的backends\n",
    "provider.backends() "
   ]
  },
  {
   "cell_type": "code",
   "execution_count": 8,
   "metadata": {},
   "outputs": [
    {
     "name": "stdout",
     "output_type": "stream",
     "text": [
      "[0.70710678+0.j 0.        +0.j 0.        +0.j 0.70710678+0.j]\n"
     ]
    }
   ],
   "source": [
    "from pytket.extensions.qiskit import (\n",
    "    AerStateBackend,\n",
    "    AerBackend,\n",
    "    AerUnitaryBackend,\n",
    "    IBMQBackend,\n",
    "    IBMQEmulatorBackend,\n",
    ")\n",
    "from pytket.extensions.projectq import ProjectQBackend\n",
    "from pytket import Circuit, Qubit\n",
    "from pytket.utils import counts_from_shot_table\n",
    "import warnings\n",
    "warnings.simplefilter('ignore', DeprecationWarning)\n",
    "\n",
    "\n",
    "circ = Circuit(2)\n",
    "circ.H(0)\n",
    "circ.CX(0, 1)\n",
    "\n",
    "aer_state_b = AerStateBackend()\n",
    "state_handle = aer_state_b.process_circuit(circ)\n",
    "statevector = aer_state_b.get_result(state_handle).get_state()\n",
    "print(statevector)"
   ]
  },
  {
   "cell_type": "code",
   "execution_count": 9,
   "metadata": {},
   "outputs": [
    {
     "name": "stdout",
     "output_type": "stream",
     "text": [
      "[[ 0.70710678+0.00000000e+00j  0.        +0.00000000e+00j\n",
      "   0.70710678-8.65956056e-17j  0.        +0.00000000e+00j]\n",
      " [ 0.        +0.00000000e+00j  0.70710678+0.00000000e+00j\n",
      "   0.        +0.00000000e+00j  0.70710678-8.65956056e-17j]\n",
      " [ 0.        +0.00000000e+00j  0.70710678+0.00000000e+00j\n",
      "   0.        +0.00000000e+00j -0.70710678+8.65956056e-17j]\n",
      " [ 0.70710678+0.00000000e+00j  0.        +0.00000000e+00j\n",
      "  -0.70710678+8.65956056e-17j  0.        +0.00000000e+00j]]\n"
     ]
    }
   ],
   "source": [
    "aer_unitary_b = AerUnitaryBackend()\n",
    "result = aer_unitary_b.run_circuit(circ)\n",
    "print(result.get_unitary())"
   ]
  },
  {
   "cell_type": "code",
   "execution_count": 10,
   "metadata": {},
   "outputs": [
    {
     "data": {
      "text/plain": [
       "[H q[0]; CX q[0], q[1]; Measure q[0] --> c[0]; Measure q[1] --> c[1]; ]"
      ]
     },
     "execution_count": 10,
     "metadata": {},
     "output_type": "execute_result"
    }
   ],
   "source": [
    "statevector = circ.get_statevector()\n",
    "unitary = circ.get_unitary()\n",
    "circ.measure_all()"
   ]
  },
  {
   "cell_type": "code",
   "execution_count": 11,
   "metadata": {},
   "outputs": [
    {
     "name": "stdout",
     "output_type": "stream",
     "text": [
      "[[0 0]\n",
      " [0 0]\n",
      " [0 0]\n",
      " [1 1]\n",
      " [0 0]\n",
      " [1 1]\n",
      " [0 0]\n",
      " [0 0]\n",
      " [0 0]\n",
      " [0 0]]\n",
      "{(0, 0): 8, (1, 1): 2}\n"
     ]
    }
   ],
   "source": [
    "aer_b = AerBackend()\n",
    "shots_handle = aer_b.process_circuit(circ, n_shots=10, seed=1)\n",
    "\n",
    "shots = aer_b.get_result(shots_handle).get_shots()\n",
    "print(shots)\n",
    "print(counts_from_shot_table(shots))"
   ]
  },
  {
   "cell_type": "code",
   "execution_count": 12,
   "metadata": {},
   "outputs": [
    {
     "name": "stdout",
     "output_type": "stream",
     "text": [
      "[[0 0]\n",
      " [0 0]\n",
      " [0 0]\n",
      " [0 0]\n",
      " [0 0]\n",
      " [1 1]\n",
      " [0 0]\n",
      " [0 0]\n",
      " [1 0]\n",
      " [0 0]]\n"
     ]
    }
   ],
   "source": [
    "from qiskit.providers.aer.noise import NoiseModel\n",
    "my_noise_model = NoiseModel()\n",
    "readout_error = 0.2\n",
    "for q in range(2):\n",
    "    my_noise_model.add_readout_error(\n",
    "        [[1 - readout_error, readout_error], [readout_error, 1 - readout_error]], [q]\n",
    "    )\n",
    "\n",
    "noisy_aer_b = AerBackend(my_noise_model)\n",
    "noisy_shots_handle = noisy_aer_b.process_circuit(\n",
    "    circ, n_shots=10, seed=1, valid_check=False\n",
    ")\n",
    "noisy_shots = noisy_aer_b.get_result(noisy_shots_handle).get_shots()\n",
    "print(noisy_shots)"
   ]
  },
  {
   "cell_type": "code",
   "execution_count": 7,
   "metadata": {},
   "outputs": [
    {
     "name": "stdout",
     "output_type": "stream",
     "text": [
      "{(0, 0): 8, (1, 0): 1, (1, 1): 1}\n"
     ]
    }
   ],
   "source": [
    "from pytket.utils import counts_from_shot_table\n",
    "print(counts_from_shot_table(noisy_shots))"
   ]
  },
  {
   "cell_type": "code",
   "execution_count": 8,
   "metadata": {},
   "outputs": [
    {
     "name": "stdout",
     "output_type": "stream",
     "text": [
      "[[0 0]\n",
      " [0 0]\n",
      " [0 0]\n",
      " [0 0]\n",
      " [0 0]\n",
      " [1 1]\n",
      " [0 0]\n",
      " [0 0]\n",
      " [0 1]\n",
      " [0 0]]\n"
     ]
    }
   ],
   "source": [
    "backend_result = noisy_aer_b.get_result(noisy_shots_handle)\n",
    "bits = circ.bits\n",
    "outcomes = backend_result.get_shots([bits[1], bits[0]])\n",
    "print(outcomes)"
   ]
  },
  {
   "cell_type": "code",
   "execution_count": 9,
   "metadata": {},
   "outputs": [
    {
     "name": "stdout",
     "output_type": "stream",
     "text": [
      "{'qubits': [], 'bits': [['c', [1]], ['c', [0]]], 'shots': {'width': 2, 'array': [[0], [0], [0], [0], [0], [192], [0], [0], [64], [0]]}}\n",
      "Counter({(0, 0): 8, (1, 0): 1, (1, 1): 1})\n"
     ]
    }
   ],
   "source": [
    "from pytket.backends.backendresult import BackendResult\n",
    "result_dict = backend_result.to_dict()\n",
    "print(result_dict)\n",
    "print(BackendResult.from_dict(result_dict).get_counts())"
   ]
  },
  {
   "cell_type": "code",
   "execution_count": 14,
   "metadata": {},
   "outputs": [
    {
     "data": {
      "text/plain": [
       "[Y q[0]; H q[1]; Rx(0.3) q[2]; ]"
      ]
     },
     "execution_count": 14,
     "metadata": {},
     "output_type": "execute_result"
    }
   ],
   "source": [
    "import openfermion as of\n",
    "hamiltonian = 0.5 * of.QubitOperator(\"X0 X2\") + 0.3 * of.QubitOperator(\"Z0\")\n",
    "circ2 = Circuit(3)\n",
    "circ2.Y(0)\n",
    "circ2.H(1)\n",
    "circ2.Rx(0.3, 2)"
   ]
  },
  {
   "cell_type": "code",
   "execution_count": 15,
   "metadata": {},
   "outputs": [],
   "source": [
    "from pytket.pauli import Pauli, QubitPauliString\n",
    "from pytket.utils.operators import QubitPauliOperator\n",
    "pauli_sym = {\"I\": Pauli.I, \"X\": Pauli.X, \"Y\": Pauli.Y, \"Z\": Pauli.Z}\n",
    "def qps_from_openfermion(paulis):\n",
    "    \"\"\"Convert OpenFermion tensor of Paulis to pytket QubitPauliString.\"\"\"\n",
    "    qlist = []\n",
    "    plist = []\n",
    "    for q, p in paulis:\n",
    "        qlist.append(Qubit(q))\n",
    "        plist.append(pauli_sym[p])\n",
    "    return QubitPauliString(qlist, plist)\n",
    "def qpo_from_openfermion(openf_op):\n",
    "    \"\"\"Convert OpenFermion QubitOperator to pytket QubitPauliOperator.\"\"\"\n",
    "    tk_op = dict()\n",
    "    for term, coeff in openf_op.terms.items():\n",
    "        string = qps_from_openfermion(term)\n",
    "        tk_op[string] = coeff\n",
    "    return QubitPauliOperator(tk_op)\n",
    "hamiltonian_op = qpo_from_openfermion(hamiltonian)"
   ]
  },
  {
   "cell_type": "code",
   "execution_count": null,
   "metadata": {},
   "outputs": [],
   "source": [
    "from pytket.utils.operators import QubitPauliOperator\n",
    "projectq_b = ProjectQBackend()\n",
    "expectation = projectq_b.get_operator_expectation_value(circ2, hamiltonian_op)\n",
    "print(expectation)"
   ]
  },
  {
   "cell_type": "code",
   "execution_count": 21,
   "metadata": {},
   "outputs": [
    {
     "data": {
      "text/plain": [
       "False"
      ]
     },
     "execution_count": 21,
     "metadata": {},
     "output_type": "execute_result"
    }
   ],
   "source": [
    "backend_name = \"ibmq_manila\"\n",
    "# ibmq_b_emu = IBMQEmulatorBackend(\"ibmq_manila\")\n",
    "ibmq_b_emu = IBMQEmulatorBackend(backend_name)\n",
    "ibmq_b_emu.valid_circuit(circ)"
   ]
  },
  {
   "cell_type": "code",
   "execution_count": 14,
   "metadata": {},
   "outputs": [
    {
     "data": {
      "text/plain": [
       "True"
      ]
     },
     "execution_count": 14,
     "metadata": {},
     "output_type": "execute_result"
    }
   ],
   "source": [
    "compiled_circ = ibmq_b_emu.get_compiled_circuit(circ)\n",
    "\n",
    "# ibmq_b = IBMQBackend(\"ibmq_manila\")\n",
    "ibmq_b = IBMQBackend(backend_name)\n",
    "ibmq_b.valid_circuit(compiled_circ)"
   ]
  },
  {
   "cell_type": "code",
   "execution_count": 1,
   "metadata": {},
   "outputs": [],
   "source": [
    "# 测试模拟器\n",
    "from pytket.extensions.qiskit import (\n",
    "    AerStateBackend,\n",
    "    AerBackend,\n",
    "    AerUnitaryBackend,\n",
    "    IBMQBackend,\n",
    "    IBMQEmulatorBackend,\n",
    ")\n",
    "\n",
    "backend_name = \"ibmq_qasm_simulator\"\n",
    "ibmq_b = IBMQBackend(backend_name)"
   ]
  },
  {
   "cell_type": "code",
   "execution_count": 15,
   "metadata": {},
   "outputs": [
    {
     "name": "stdout",
     "output_type": "stream",
     "text": [
      "CircuitStatus(status=<StatusEnum.SUBMITTED: 'Circuit has been submitted.'>, message='job is being initialized', error_detail=None, completed_time=None, queued_time=None, submitted_time=None, running_time=None, cancelled_time=None, error_time=None, queue_position=None)\n",
      "[[0 0]\n",
      " [1 1]\n",
      " [1 1]\n",
      " [0 0]\n",
      " [1 1]\n",
      " [0 0]\n",
      " [1 1]\n",
      " [1 1]\n",
      " [0 0]\n",
      " [0 0]]\n"
     ]
    }
   ],
   "source": [
    "quantum_handle = ibmq_b_emu.process_circuit(compiled_circ, n_shots=10)\n",
    "print(ibmq_b_emu.circuit_status(quantum_handle))\n",
    "quantum_shots = ibmq_b_emu.get_result(quantum_handle).get_shots()\n",
    "print(quantum_shots)"
   ]
  },
  {
   "cell_type": "code",
   "execution_count": 16,
   "metadata": {},
   "outputs": [
    {
     "name": "stdout",
     "output_type": "stream",
     "text": [
      "[ResultHandle('2eec0c48-49ad-4ef9-86ae-3ccd54e5b356', 0, 'null'), ResultHandle('2eec0c48-49ad-4ef9-86ae-3ccd54e5b356', 1, 'null'), ResultHandle('2eec0c48-49ad-4ef9-86ae-3ccd54e5b356', 2, 'null'), ResultHandle('2eec0c48-49ad-4ef9-86ae-3ccd54e5b356', 3, 'null'), ResultHandle('2eec0c48-49ad-4ef9-86ae-3ccd54e5b356', 4, 'null')]\n",
      "0.92\n",
      "0.92\n",
      "0.94\n",
      "0.8200000000000001\n",
      "0.8200000000000001\n"
     ]
    }
   ],
   "source": [
    "circuits = []\n",
    "for i in range(5):\n",
    "    c = Circuit(2)\n",
    "    c.Rx(0.2 * i, 0).CX(0, 1)\n",
    "    c.measure_all()\n",
    "    circuits.append(ibmq_b_emu.get_compiled_circuit(c))\n",
    "handles = ibmq_b_emu.process_circuits(circuits, n_shots=100)\n",
    "print(handles)\n",
    "\n",
    "from pytket.utils import expectation_from_shots\n",
    "for handle in handles:\n",
    "    shots = ibmq_b_emu.get_result(handle).get_shots()\n",
    "    exp_val = expectation_from_shots(shots)\n",
    "    print(exp_val)"
   ]
  },
  {
   "cell_type": "code",
   "execution_count": 17,
   "metadata": {},
   "outputs": [
    {
     "name": "stdout",
     "output_type": "stream",
     "text": [
      "('347481cb-0f38-48d8-bd96-ef08f336ded2', 0, 'null')\n",
      "[[1 1]\n",
      " [1 1]\n",
      " [0 0]\n",
      " [1 1]\n",
      " [0 0]\n",
      " [0 1]\n",
      " [1 1]\n",
      " [0 0]\n",
      " [1 1]\n",
      " [1 1]]\n"
     ]
    }
   ],
   "source": [
    "from pytket.backends import ResultHandle\n",
    "c = Circuit(2).Rx(0.5, 0).CX(0, 1).measure_all()\n",
    "c = ibmq_b_emu.get_compiled_circuit(c)\n",
    "handle = ibmq_b_emu.process_circuit(c, n_shots=10)\n",
    "handlestring = str(handle)\n",
    "print(handlestring)\n",
    "# ... later ...\n",
    "oldhandle = ResultHandle.from_str(handlestring)\n",
    "print(ibmq_b_emu.get_result(oldhandle).get_shots())"
   ]
  }
 ],
 "metadata": {
  "interpreter": {
   "hash": "161d28b02da67bcd34bb9cde8da8d1fd0a4c616d889b50da1edf66f4de77f6ec"
  },
  "kernelspec": {
   "display_name": "Python 3.9.12 64-bit ('quantum': conda)",
   "language": "python",
   "name": "python3"
  },
  "language_info": {
   "codemirror_mode": {
    "name": "ipython",
    "version": 3
   },
   "file_extension": ".py",
   "mimetype": "text/x-python",
   "name": "python",
   "nbconvert_exporter": "python",
   "pygments_lexer": "ipython3",
   "version": "3.9.12"
  },
  "orig_nbformat": 4
 },
 "nbformat": 4,
 "nbformat_minor": 2
}
