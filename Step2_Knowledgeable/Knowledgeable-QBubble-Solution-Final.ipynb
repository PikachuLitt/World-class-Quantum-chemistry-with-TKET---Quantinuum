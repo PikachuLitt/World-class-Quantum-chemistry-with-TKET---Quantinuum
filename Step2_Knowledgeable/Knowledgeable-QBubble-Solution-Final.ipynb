{
 "cells": [
  {
   "cell_type": "markdown",
   "id": "8b196fe5",
   "metadata": {},
   "source": [
    "# Problem Statement\n",
    "\n",
    "\n",
    "Instead of using a sample circuit, you will perform the tasks outlined for Beginner above for an actual LiH circuit. A given ansatz LiH circuit in the form of a QASM file `LiHJordanWignerMapper.qasm` will be supplied to you for your analysis [here](https://github.com/spendierk/Womanium_Hackathon_TKET_2022/blob/main/LiHJordanWignerMapper.qasm). The circuit was obtained by using the simplest qubit mapper/converter called the Jordan-Wigner Mapper. This circuit is quite deep. Before optimization, the circuit will have a total of 12 qubits and more than 16,000 gates.\n",
    "\n",
    "---\n",
    "\n",
    "# Solution\n",
    "\n",
    "Team QBubble: Zhixin Song, Tingting Li, and Yuxuan Yan\\\n",
    "Last update: 08/23/2022\n",
    "\n",
    "Required Packages:\\\n",
    "qiskit==0.37.1\\\n",
    "pytket==1.5.0 \n",
    "\n",
    "\n",
    "## 0. Test case \n",
    "\n",
    "For the circuit level compiling, we use `LiHJordanWignerMapper.qasm` as a test case. This **12-qubit** circuit contains **8064 CNOT gates** and **640 parametrized Rz gates**.\n"
   ]
  },
  {
   "cell_type": "code",
   "execution_count": 9,
   "id": "4dd24a34",
   "metadata": {},
   "outputs": [
    {
     "name": "stdout",
     "output_type": "stream",
     "text": [
      "Depth: 9834\n",
      "CNOTS: 8064\n",
      "Rz: 640\n",
      "Circuit too large to draw!!\n"
     ]
    }
   ],
   "source": [
    "from qiskit import QuantumCircuit\n",
    "\n",
    "qc = QuantumCircuit.from_qasm_file(\"LiHJordanWignerMapper.qasm\")\n",
    "print(\"Depth: %i\" % qc.depth())\n",
    "print(\"CNOTS: %i\" % qc.count_ops()['cx'])\n",
    "print(\"Rz: %i\" % qc.count_ops()['rz'])\n",
    "print(\"Circuit too large to draw!!\")\n",
    "# qc.draw(\"mpl\")"
   ]
  },
  {
   "cell_type": "markdown",
   "id": "f24e0b66-d332-4b14-b53b-9cf4689ec76c",
   "metadata": {},
   "source": [
    "## 1. Backends\n",
    "\n",
    "Hardware backends available to our team include: IBMQ, IonQ, Quantinuum (fail to push the job to H1-1 and H1-2 for some reason).\n"
   ]
  },
  {
   "cell_type": "markdown",
   "id": "de24c831-7268-463d-aace-481bbeaf3360",
   "metadata": {},
   "source": [
    "## 2. Benchmarks\n",
    "\n",
    "The goal of compiling is to reduce the effective circuit depth $D$ and number of CNOT gates $N_{\\text{CNOT}}$. In this case, we will check the performance of pytket compiler under these 2 metrics."
   ]
  },
  {
   "cell_type": "markdown",
   "id": "8ffe0237-8f68-4f27-b2e9-6405a89fd78f",
   "metadata": {
    "tags": []
   },
   "source": [
    "## 3. Compiler Results\n",
    "\n",
    "\n",
    "Before compiling\n",
    "\n",
    "| Test files  | Width       | Depth $D$  |  $N_{\\text{CNOT}}$   | $N_{\\theta}$ |\n",
    "| ----------- | :-----------: |:-----------: | :-----------: | :-----------: |\n",
    "| LiH-JW       | 12-qubit     | 9834         | 8064         | 640       |\n",
    "\n",
    "\n",
    "After compiling\n",
    "\n",
    "| Backends    | Compiler    |Test file   | Qubits      |Optimization level      | $D$     | $N_{\\text{CNOT}}$   |$N_{\\theta}$   | Fidelity $F$ |\n",
    "| ----------- | :----------: |:-----------:| :-----------: |:-----------: |:-----------: | :-----------: | :-----------: | :-----------: |\n",
    "| ionq_simulator  |  TKET       | LiH-JW      | 29          | 2          | 7004      |  4336      | 4972      | 100% (noiseless simulator)      |\n",
    "|quantinuum.hqs-lt-s1-sim  | TKET  | LiH-JW   | 12          | 2          | 7004      | 4336       | 4952       | ? (emulator failed)     |\n",
    "\n"
   ]
  },
  {
   "cell_type": "markdown",
   "id": "e1693a00-9831-48c8-9cff-d8c992d99819",
   "metadata": {},
   "source": [
    "### 3.0 Simulator Result"
   ]
  },
  {
   "cell_type": "code",
   "execution_count": 2,
   "id": "527382f2-d84a-4e6f-bdde-7b49866eaff8",
   "metadata": {},
   "outputs": [
    {
     "data": {
      "image/png": "[encoded data removed]",
      "text/plain": [
       "<Figure size 504x360 with 1 Axes>"
      ]
     },
     "execution_count": 2,
     "metadata": {},
     "output_type": "execute_result"
    }
   ],
   "source": [
    "from qiskit import IBMQ, QuantumCircuit, transpile, assemble, Aer, execute\n",
    "from qiskit.visualization import plot_histogram\n",
    "\n",
    "# Load circuit from QASM file\n",
    "qc = QuantumCircuit.from_qasm_file(\"LiHJordanWignerMapper.qasm\")\n",
    "qc.measure_all()\n",
    "\n",
    "backend_sim = Aer.get_backend(\"qasm_simulator\")\n",
    "job_sim = backend_sim.run(transpile(qc, backend_sim), shots=1024)\n",
    "result_sim = job_sim.result()\n",
    "counts = result_sim.get_counts()\n",
    "plot_histogram(counts)"
   ]
  },
  {
   "cell_type": "markdown",
   "id": "a1f64c89-256a-49aa-8429-85eb7c631bde",
   "metadata": {},
   "source": [
    "### 3.1 Access IonQ Backends through TKET\n",
    "\n",
    "**Please run the following code on Microsoft Azure!!!!**"
   ]
  },
  {
   "cell_type": "code",
   "execution_count": null,
   "id": "fb4ab7f2-3f4b-4fa2-b899-a211f47ad841",
   "metadata": {},
   "outputs": [],
   "source": [
    "from pytket.extensions.qsharp import AzureBackend\n",
    "from pytket import Circuit, OpType\n",
    "from pytket.qasm import circuit_to_qasm, circuit_from_qasm\n",
    "from pytket.extensions.qiskit import qiskit_to_tk, tk_to_qiskit\n",
    "\n",
    "backend_ionQ = AzureBackend(\"ionq.simulator\",resourceId=\"token\",location=\"eastus\")\n",
    "\n",
    "# Load circuit from QASM file\n",
    "qasmfile = 'LiHJordanWignerMapper.qasm'\n",
    "qc = circuit_from_qasm(qasmfile)\n",
    "qc.measure_all()\n",
    "backend_ionQ.valid_circuit(qc)\n",
    "\n",
    "for ol in range(3):\n",
    "    compiled_circ = qc.copy()\n",
    "    backend_ionQ.default_compilation_pass(ol).apply(compiled_circ)\n",
    "    assert backend_ionQ.valid_circuit(compiled_circ)\n",
    "    print(\"Optimisation level\", ol)\n",
    "    print(\"CXs\", compiled_circ.n_gates_of_type(OpType.CX))\n",
    "    print(\"Rzs\", compiled_circ.n_gates_of_type(OpType.Rz))\n",
    "\n",
    "circ = tk_to_qiskit(compiled_circ)\n",
    "print('\\nDepth:', circ.depth())\n",
    "print('Gate counts:', circ.count_ops())"
   ]
  },
  {
   "cell_type": "markdown",
   "id": "6d964296-4362-4842-8021-15508cb9f3e9",
   "metadata": {},
   "source": [
    "### 3.2 Access Quantinuum Backends through TKET\n",
    "\n",
    "**Please run the following code on Microsoft Azure!!!!**"
   ]
  },
  {
   "cell_type": "code",
   "execution_count": null,
   "id": "d3c36e50-9157-4398-9b85-55980390a14a",
   "metadata": {},
   "outputs": [],
   "source": [
    "from pytket.extensions.qsharp import AzureBackend\n",
    "from pytket import Circuit, OpType\n",
    "from pytket.qasm import circuit_to_qasm, circuit_from_qasm\n",
    "from pytket.extensions.qiskit import qiskit_to_tk, tk_to_qiskit\n",
    "\n",
    "backend_Q = AzureBackend(\"quantinuum.hqs-lt-s1-sim\",resourceId=\"token\",location=\"westus\")\n",
    "\n",
    "# Load circuit from QASM file\n",
    "qasmfile = 'LiHJordanWignerMapper.qasm'\n",
    "qc = circuit_from_qasm(qasmfile)\n",
    "qc.measure_all()\n",
    "backend_Q.valid_circuit(qc)\n",
    "\n",
    "for ol in range(3):\n",
    "    compiled_circ = qc.copy()\n",
    "    backend_Q.default_compilation_pass(ol).apply(compiled_circ)\n",
    "    assert backend_Q.valid_circuit(compiled_circ)\n",
    "    print(\"Optimisation level\", ol)\n",
    "    print(\"CXs\", compiled_circ.n_gates_of_type(OpType.CX))\n",
    "    print(\"Rzs\", compiled_circ.n_gates_of_type(OpType.Rz))\n",
    "\n",
    "circ = tk_to_qiskit(compiled_circ)\n",
    "print('\\nDepth:', circ.depth())\n",
    "print('Gate counts:', circ.count_ops())"
   ]
  },
  {
   "cell_type": "code",
   "execution_count": 1,
   "id": "c4f99137-97df-4696-8d9c-9ca6c0ae1990",
   "metadata": {},
   "outputs": [
    {
     "name": "stderr",
     "output_type": "stream",
     "text": [
      "<frozen importlib._bootstrap>:219: RuntimeWarning: scipy._lib.messagestream.MessageStream size changed, may indicate binary incompatibility. Expected 56 from C header, got 64 from PyObject\n"
     ]
    },
    {
     "data": {
      "text/html": [
       "<h3>Version Information</h3><table><tr><th>Qiskit Software</th><th>Version</th></tr><tr><td><code>qiskit-terra</code></td><td>0.21.1</td></tr><tr><td><code>qiskit-aer</code></td><td>0.10.4</td></tr><tr><td><code>qiskit-ibmq-provider</code></td><td>0.19.2</td></tr><tr><td><code>qiskit</code></td><td>0.37.1</td></tr><tr><td><code>qiskit-nature</code></td><td>0.4.2</td></tr><tr><td><code>qiskit-finance</code></td><td>0.3.3</td></tr><tr><td><code>qiskit-optimization</code></td><td>0.4.0</td></tr><tr><td><code>qiskit-machine-learning</code></td><td>0.4.0</td></tr><tr><th>System information</th></tr><tr><td>Python version</td><td>3.8.13</td></tr><tr><td>Python compiler</td><td>GCC 10.3.0</td></tr><tr><td>Python build</td><td>default, Mar 25 2022 06:04:10</td></tr><tr><td>OS</td><td>Linux</td></tr><tr><td>CPUs</td><td>8</td></tr><tr><td>Memory (Gb)</td><td>31.211315155029297</td></tr><tr><td colspan='2'>Wed Aug 24 03:28:58 2022 UTC</td></tr></table>"
      ],
      "text/plain": [
       "<IPython.core.display.HTML object>"
      ]
     },
     "metadata": {},
     "output_type": "display_data"
    }
   ],
   "source": [
    "import qiskit.tools.jupyter\n",
    "%qiskit_version_table"
   ]
  }
 ],
 "metadata": {
  "kernelspec": {
   "display_name": "Python 3 (ipykernel)",
   "language": "python",
   "name": "python3"
  },
  "language_info": {
   "codemirror_mode": {
    "name": "ipython",
    "version": 3
   },
   "file_extension": ".py",
   "mimetype": "text/x-python",
   "name": "python",
   "nbconvert_exporter": "python",
   "pygments_lexer": "ipython3",
   "version": "3.8.13"
  },
  "widgets": {
   "application/vnd.jupyter.widget-state+json": {
    "state": {
     "189fd0ae6ed9464a961f35055174554e": {
      "model_module": "@jupyter-widgets/controls",
      "model_module_version": "1.5.0",
      "model_name": "DescriptionStyleModel",
      "state": {
       "description_width": ""
      }
     },
     "18c7de30d2b0471b98cd521533f7728b": {
      "model_module": "@jupyter-widgets/controls",
      "model_module_version": "1.5.0",
      "model_name": "ButtonModel",
      "state": {
       "button_style": "primary",
       "description": "Clear",
       "layout": "IPY_MODEL_bd9fc9297b234942b065a7c7b7d8dbaf",
       "style": "IPY_MODEL_dbd14b5ba1d94bbcabf07cd756f39ce0"
      }
     },
     "1d8fc6606ad5485ab6c7c20923f0bcb3": {
      "model_module": "@jupyter-widgets/base",
      "model_module_version": "1.2.0",
      "model_name": "LayoutModel",
      "state": {
       "width": "190px"
      }
     },
     "203f196976f04ea297a7bbae1dc254b0": {
      "model_module": "@jupyter-widgets/controls",
      "model_module_version": "1.5.0",
      "model_name": "HTMLModel",
      "state": {
       "layout": "IPY_MODEL_35f48c793c304e528f1cc75f86530b2b",
       "style": "IPY_MODEL_58dad8ff1c744460b2843b29c1648d98",
       "value": "<h5>Message</h5>"
      }
     },
     "3294c258d8ab46b4915866a5ce47e5a3": {
      "model_module": "@jupyter-widgets/controls",
      "model_module_version": "1.5.0",
      "model_name": "HTMLModel",
      "state": {
       "layout": "IPY_MODEL_7bfb662955fd4a92b7d59b7135233bda",
       "style": "IPY_MODEL_189fd0ae6ed9464a961f35055174554e",
       "value": "<h5>Queue</h5>"
      }
     },
     "35f48c793c304e528f1cc75f86530b2b": {
      "model_module": "@jupyter-widgets/base",
      "model_module_version": "1.2.0",
      "model_name": "LayoutModel",
      "state": {}
     },
     "518c0e2153304615a1953c3e3110aa69": {
      "model_module": "@jupyter-widgets/controls",
      "model_module_version": "1.5.0",
      "model_name": "HTMLModel",
      "state": {
       "layout": "IPY_MODEL_1d8fc6606ad5485ab6c7c20923f0bcb3",
       "style": "IPY_MODEL_afc04f8109bf46aa8e6866840c2921b3",
       "value": "<h5>Job ID</h5>"
      }
     },
     "55f35327f9ca4bbaa7791c27858018f0": {
      "model_module": "@jupyter-widgets/base",
      "model_module_version": "1.2.0",
      "model_name": "LayoutModel",
      "state": {
       "grid_template_areas": "\n                                       \". . . . right \"\n                                        ",
       "grid_template_columns": "20% 20% 20% 20% 20%",
       "width": "100%"
      }
     },
     "58dad8ff1c744460b2843b29c1648d98": {
      "model_module": "@jupyter-widgets/controls",
      "model_module_version": "1.5.0",
      "model_name": "DescriptionStyleModel",
      "state": {
       "description_width": ""
      }
     },
     "613b33c9df754ce4980f23821ed48a4f": {
      "model_module": "@jupyter-widgets/controls",
      "model_module_version": "1.5.0",
      "model_name": "DescriptionStyleModel",
      "state": {
       "description_width": ""
      }
     },
     "635760867ac14b029d1754aea9d332da": {
      "model_module": "@jupyter-widgets/controls",
      "model_module_version": "1.5.0",
      "model_name": "HTMLModel",
      "state": {
       "layout": "IPY_MODEL_6846f81eddda43d0af877637fc884845",
       "style": "IPY_MODEL_af18fd490a3d4780a0ba99a79bb11763",
       "value": "<p style='font-family: IBM Plex Sans, Arial, Helvetica, sans-serif; font-size: 20px; font-weight: medium;'>Circuit Properties</p>"
      }
     },
     "6846f81eddda43d0af877637fc884845": {
      "model_module": "@jupyter-widgets/base",
      "model_module_version": "1.2.0",
      "model_name": "LayoutModel",
      "state": {
       "margin": "0px 0px 10px 0px"
      }
     },
     "7bfb662955fd4a92b7d59b7135233bda": {
      "model_module": "@jupyter-widgets/base",
      "model_module_version": "1.2.0",
      "model_name": "LayoutModel",
      "state": {
       "width": "70px"
      }
     },
     "7eb0a7c055d149cdae281311f6afd3c6": {
      "model_module": "@jupyter-widgets/controls",
      "model_module_version": "1.5.0",
      "model_name": "HBoxModel",
      "state": {
       "children": [
        "IPY_MODEL_518c0e2153304615a1953c3e3110aa69",
        "IPY_MODEL_8dd246be49364f3db713fdfa0e0df281",
        "IPY_MODEL_e65cf99de151478fa204647af2134a57",
        "IPY_MODEL_3294c258d8ab46b4915866a5ce47e5a3",
        "IPY_MODEL_203f196976f04ea297a7bbae1dc254b0"
       ],
       "layout": "IPY_MODEL_efd2e4cbd4ec4daea33f76a0d04ab998"
      }
     },
     "8108b53089d84d4caae4873504e5fa83": {
      "model_module": "@jupyter-widgets/base",
      "model_module_version": "1.2.0",
      "model_name": "LayoutModel",
      "state": {
       "width": "145px"
      }
     },
     "8dd246be49364f3db713fdfa0e0df281": {
      "model_module": "@jupyter-widgets/controls",
      "model_module_version": "1.5.0",
      "model_name": "HTMLModel",
      "state": {
       "layout": "IPY_MODEL_8108b53089d84d4caae4873504e5fa83",
       "style": "IPY_MODEL_613b33c9df754ce4980f23821ed48a4f",
       "value": "<h5>Backend</h5>"
      }
     },
     "af18fd490a3d4780a0ba99a79bb11763": {
      "model_module": "@jupyter-widgets/controls",
      "model_module_version": "1.5.0",
      "model_name": "DescriptionStyleModel",
      "state": {
       "description_width": ""
      }
     },
     "afc04f8109bf46aa8e6866840c2921b3": {
      "model_module": "@jupyter-widgets/controls",
      "model_module_version": "1.5.0",
      "model_name": "DescriptionStyleModel",
      "state": {
       "description_width": ""
      }
     },
     "b51f18aa82cc446599325791c54528e1": {
      "model_module": "@jupyter-widgets/controls",
      "model_module_version": "1.5.0",
      "model_name": "DescriptionStyleModel",
      "state": {
       "description_width": ""
      }
     },
     "bd9fc9297b234942b065a7c7b7d8dbaf": {
      "model_module": "@jupyter-widgets/base",
      "model_module_version": "1.2.0",
      "model_name": "LayoutModel",
      "state": {
       "grid_area": "right",
       "padding": "0px 0px 0px 0px",
       "width": "70px"
      }
     },
     "d481efff60164f87af3dd9eadceb4beb": {
      "model_module": "@jupyter-widgets/controls",
      "model_module_version": "1.5.0",
      "model_name": "GridBoxModel",
      "state": {
       "children": [
        "IPY_MODEL_18c7de30d2b0471b98cd521533f7728b"
       ],
       "layout": "IPY_MODEL_55f35327f9ca4bbaa7791c27858018f0"
      }
     },
     "dbd14b5ba1d94bbcabf07cd756f39ce0": {
      "model_module": "@jupyter-widgets/controls",
      "model_module_version": "1.5.0",
      "model_name": "ButtonStyleModel",
      "state": {}
     },
     "e65cf99de151478fa204647af2134a57": {
      "model_module": "@jupyter-widgets/controls",
      "model_module_version": "1.5.0",
      "model_name": "HTMLModel",
      "state": {
       "layout": "IPY_MODEL_ee956d2f601d49959d854485e2c03071",
       "style": "IPY_MODEL_b51f18aa82cc446599325791c54528e1",
       "value": "<h5>Status</h5>"
      }
     },
     "ee956d2f601d49959d854485e2c03071": {
      "model_module": "@jupyter-widgets/base",
      "model_module_version": "1.2.0",
      "model_name": "LayoutModel",
      "state": {
       "width": "95px"
      }
     },
     "efd2e4cbd4ec4daea33f76a0d04ab998": {
      "model_module": "@jupyter-widgets/base",
      "model_module_version": "1.2.0",
      "model_name": "LayoutModel",
      "state": {
       "margin": "0px 0px 0px 37px",
       "width": "600px"
      }
     }
    },
    "version_major": 2,
    "version_minor": 0
   }
  }
 },
 "nbformat": 4,
 "nbformat_minor": 5
}
